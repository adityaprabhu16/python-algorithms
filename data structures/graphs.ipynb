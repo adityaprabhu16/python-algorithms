{
 "cells": [
  {
   "cell_type": "markdown",
   "metadata": {},
   "source": [
    "Graphs:\n",
    " - There's a lot of good information to understand here, including understanding adjacency lists, different types of graphs (directed vs undirected, complete vs. incomplete).\n",
    " - Take a look at notes for further details.\n",
    " - Time complexity is generally O(V+E) for graph traversal, where V is the vertices we traverse, and E are the edges between vertices as we traverse the adjacency list.\n",
    " - Memory complexity is O(V) for storing the nodes."
   ]
  },
  {
   "cell_type": "markdown",
   "metadata": {},
   "source": [
    "Clone Graph:\n",
    " - Given a Node object, we need to create a deep copy of the graph the Node object is a part of.\n",
    " - We can accomplish this via DFS or even BFS. \n",
    "\n",
    " - Strategy: recursive DFS:\n",
    " - Starting at the entry node they gave us, we'll create a copy of it by instantiating a new node.\n",
    " - We'll place the original node in a visited list so we know we've seen it before when we do our DFS traversal.\n",
    " - We'll place the cloned node in a hash map so we can return it again if another node needs it for their adjacency list.\n",
    " - The key of the hashMap will be node.val because we're told node values are all unique.\n",
    " - If we encounter a node we've visited before, we can just return the cloned node made earlier from the hashMap.\n",
    " - We'll then traverse the node's neighbors and fill up the cloned node's adjacency list. \n",
    " - We'll return the cloned node."
   ]
  },
  {
   "cell_type": "code",
   "execution_count": null,
   "metadata": {},
   "outputs": [],
   "source": [
    "class Solution:\n",
    "    def cloneGraph(self, node: Optional[Node]) -> Optional[Node]:\n",
    "        visited = set() \n",
    "        clones = {}\n",
    "\n",
    "        def dfs(node):\n",
    "            if node in visited: #hashSets can be used to compare objects!\n",
    "                return clones[node.val]\n",
    "            \n",
    "            visited.add(node)\n",
    "            cloned_node = Node(node.val)\n",
    "            clones[node.val] = cloned_node\n",
    "\n",
    "            for n in node.neighors:\n",
    "                cloned = dfs(n)\n",
    "                cloned_node.neighbors.append(cloned)\n",
    "            \n",
    "            #return the completed cloned_node.\n",
    "            return cloned_node\n",
    "        \n",
    "        return dfs(node)\n",
    "            "
   ]
  },
  {
   "cell_type": "markdown",
   "metadata": {},
   "source": [
    "Course Schedule\n",
    " - Another great problem, but this time directed (potentially disjoint) graphs\n",
    " - We want to confirm the graphs don't have cycles (prerequisites don't depend on eachother, a contradiction).\n",
    " - Strategy:\n",
    "    - Create an adjacency list where each index is the course number, and the entries at the index are the prerequisites.\n",
    "    - Now go through each course and make sure there are no cycles (preqrequisites depending on eachother)\n",
    "    - Use a visited set to keep track of the graph traversal: if we encounter a node within the same traversal again, we know we have a cycle, so that's not a valid prerequisite.\n",
    "    - Remove the current node from visited so we can free that node for future prerequisite traversals (as multiple courses may depend on the same prerequisites).\n",
    "    - Once we've confirmed a given node's path traversal good and we removed it from visited so we don't detect false cycles, add the node in a cleared set to memoize that path so we don't have to traverse its prerequisites again."
   ]
  },
  {
   "cell_type": "code",
   "execution_count": null,
   "metadata": {},
   "outputs": [
    {
     "ename": "SyntaxError",
     "evalue": "incomplete input (1668153052.py, line 13)",
     "output_type": "error",
     "traceback": [
      "  \u001b[36mCell\u001b[39m\u001b[36m \u001b[39m\u001b[32mIn[1]\u001b[39m\u001b[32m, line 13\u001b[39m\n\u001b[31m    \u001b[39m\n    ^\n\u001b[31mSyntaxError\u001b[39m\u001b[31m:\u001b[39m incomplete input\n"
     ]
    }
   ],
   "source": [
    "class Solution:\n",
    "    def courseSchedule(prerequisites: List[List[int]], numCourses: int) -> bool:\n",
    "        adjList = [[] for _ in range(numCourses)]\n",
    "        for pair in prerequisites:\n",
    "            #pair[0] = course, pair[1] = prerequisite\n",
    "            adjList[pair[0]].append(pair[1])\n",
    "        \n",
    "        visited = set()\n",
    "        cleared = set()\n",
    "\n",
    "        def dfs(idx):\n",
    "            #this course does not have prerequisites, we've already cleared it, or we're at the end of a prerequisite chain.\n",
    "            if not adjList[idx] or idx in cleared:\n",
    "                return True\n",
    "\n",
    "            #Found a cycle!\n",
    "            if idx in visited:\n",
    "                return False\n",
    "            \n",
    "            #otherwise, we've visited it, onto the next\n",
    "            visited.add(idx)\n",
    "            for prereq in adjList[idx]:\n",
    "                if not dfs(prereq):\n",
    "                    return False\n",
    "            #otherwise the prereqs for this course look good!\n",
    "            #memoize for future visits.\n",
    "            cleared.add(idx)\n",
    "\n",
    "            #free up the idx for future iterations as needed.\n",
    "            visited.remove(idx)\n",
    "\n",
    "            #If we've made it here, this course is good.\n",
    "            return True\n",
    "                \n",
    "        \n",
    "        #use indices so we can traverse a full directed path and check for cycles\n",
    "        for i in range(len(adjList)):\n",
    "            #if cycle detected\n",
    "            if not dfs(i):\n",
    "                return False\n",
    "        return True"
   ]
  },
  {
   "cell_type": "code",
   "execution_count": null,
   "metadata": {},
   "outputs": [],
   "source": []
  }
 ],
 "metadata": {
  "kernelspec": {
   "display_name": "venv",
   "language": "python",
   "name": "python3"
  },
  "language_info": {
   "codemirror_mode": {
    "name": "ipython",
    "version": 3
   },
   "file_extension": ".py",
   "mimetype": "text/x-python",
   "name": "python",
   "nbconvert_exporter": "python",
   "pygments_lexer": "ipython3",
   "version": "3.11.7"
  }
 },
 "nbformat": 4,
 "nbformat_minor": 2
}
