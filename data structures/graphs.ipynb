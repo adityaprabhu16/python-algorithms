{
 "cells": [
  {
   "cell_type": "markdown",
   "metadata": {},
   "source": [
    "Graphs:\n",
    " - There's a lot of good information to understand here, including understanding adjacency lists, different types of graphs (directed vs undirected, complete vs. incomplete).\n",
    " - Take a look at notes for further details.\n",
    " - Time complexity is generally O(V+E) for graph traversal, where V is the vertices we traverse, and E are the edges between vertices as we traverse the adjacency list.\n",
    " - Memory complexity is O(V) for storing the nodes."
   ]
  },
  {
   "cell_type": "markdown",
   "metadata": {},
   "source": [
    "Clone Graph:\n",
    " - Given a Node object, we need to create a deep copy of the graph the Node object is a part of.\n",
    " - We can accomplish this via DFS or even BFS. \n",
    "\n",
    " - Strategy: recursive DFS:\n",
    " - Starting at the entry node they gave us, we'll create a copy of it by instantiating a new node.\n",
    " - We'll place the original node in a visited list so we know we've seen it before when we do our DFS traversal.\n",
    " - We'll place the cloned node in a hash map so we can return it again if another node needs it for their adjacency list.\n",
    " - The key of the hashMap will be node.val because we're told node values are all unique.\n",
    " - If we encounter a node we've visited before, we can just return the cloned node made earlier from the hashMap.\n",
    " - We'll then traverse the node's neighbors and fill up the cloned node's adjacency list. \n",
    " - We'll return the cloned node."
   ]
  },
  {
   "cell_type": "code",
   "execution_count": null,
   "metadata": {},
   "outputs": [],
   "source": [
    "class Solution:\n",
    "    def cloneGraph(self, node: Optional[Node]) -> Optional[Node]:\n",
    "        visited = set() \n",
    "        clones = {}\n",
    "\n",
    "        def dfs(node):\n",
    "            if node in visited: #hashSets can be used to compare objects!\n",
    "                return clones[node.val]\n",
    "            \n",
    "            visited.add(node)\n",
    "            cloned_node = Node(node.val)\n",
    "            clones[node.val] = cloned_node\n",
    "\n",
    "            for n in node.neighors:\n",
    "                cloned = dfs(n)\n",
    "                cloned_node.neighbors.append(cloned)\n",
    "            \n",
    "            #return the completed cloned_node.\n",
    "            return cloned_node\n",
    "        \n",
    "        return dfs(node)\n",
    "            "
   ]
  },
  {
   "cell_type": "markdown",
   "metadata": {},
   "source": [
    "Course Schedule\n",
    " - Another great problem, but this time directed (potentially disjoint) graphs\n",
    " - We want to confirm the graphs don't have cycles (prerequisites don't depend on eachother, a contradiction)."
   ]
  }
 ],
 "metadata": {
  "kernelspec": {
   "display_name": "venv",
   "language": "python",
   "name": "python3"
  },
  "language_info": {
   "name": "python",
   "version": "3.11.7"
  }
 },
 "nbformat": 4,
 "nbformat_minor": 2
}
