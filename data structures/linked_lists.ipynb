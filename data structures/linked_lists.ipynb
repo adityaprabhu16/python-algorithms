{
 "cells": [
  {
   "cell_type": "markdown",
   "metadata": {},
   "source": [
    "Linked Lists:\n",
    " - "
   ]
  },
  {
   "cell_type": "markdown",
   "metadata": {},
   "source": [
    "**Copy List with Random Pointer**:\n",
    " - This is a good copy a linked list problem, with an added twist of filling out the random pointer attribute for each Node. \n",
    " - We'll use a hash map to fill out the random pointer attribute. A hash map is useful here because we can refer to any node in the list as needed. "
   ]
  },
  {
   "cell_type": "markdown",
   "metadata": {},
   "source": [
    "**Find the Duplicate Number (in O(1) memory!)**\n",
    " - This is a great problem demonstrating Floyd's algorithm\n",
    " - We use the first half of this algorithm in problems such as Linked List Cycle, Delete Node from Linked List, Reverse Linked List from the Middle\n",
    " - Here we use the full algorithm!\n",
    "\n",
    " - How it works:\n",
    "  - We treat the values in the array as a pointer to the next index in the array.\n",
    "  - E.g. If we're at index 0, and the value nums[0] = 1, the next location our pointer will go to is pointer = nums[0] = 1, and so on.\n",
    "  - We'll have a fast pointer that goes fast = nums[nums[i]], where i is the current VALUE the pointer is on.\n",
    "  - We'll have a slow pointer that goes slow = nums[j]\n",
    "  - Both pointers start at index 0 (slow=fast=0)\n",
    "  - At the location these pointers meet after incrementing both, we've found a cycle\n",
    "  - We'll then introduce another slow pointer that starts at index 0, and the VALUE the first slow pointer and it meets at is our DUPLICATE!\n",
    "  - Why? You can draw this out, also see the general proof on Neetcode video. \n",
    "\n",
    "  Intuition:\n",
    "   - Essentially, since we're indexing into the array, if two pointers end up on the same index but they're going at different speeds, it means there was a cycle that lead them to that same index location, because eventually the two pointers would meet. That index that lead them to the same location must therefore be the duplicate in the array since they BOTH point to the same location in the array."
   ]
  }
 ],
 "metadata": {
  "language_info": {
   "name": "python"
  }
 },
 "nbformat": 4,
 "nbformat_minor": 2
}
