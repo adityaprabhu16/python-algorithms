{
 "cells": [
  {
   "cell_type": "markdown",
   "metadata": {},
   "source": [
    "Linked Lists:\n",
    " - "
   ]
  },
  {
   "cell_type": "markdown",
   "metadata": {},
   "source": [
    "Copy List with Random Pointer:\n",
    " - This is a good copy a linked list problem, with an added twist of filling out the random pointer attribute for each Node. \n",
    " - We'll use a hash map to fill out the random pointer attribute. A hash map is useful here because we can refer to any node in the list as needed. "
   ]
  }
 ],
 "metadata": {
  "language_info": {
   "name": "python"
  }
 },
 "nbformat": 4,
 "nbformat_minor": 2
}
