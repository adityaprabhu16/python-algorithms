{
 "cells": [
  {
   "cell_type": "markdown",
   "metadata": {},
   "source": [
    "Binary Search Trees (BST):\n",
    "A binary tree where the left child is strictly less than the subroot and the right child is strictly greater. "
   ]
  },
  {
   "cell_type": "markdown",
   "metadata": {},
   "source": [
    "Minimum Absolute Difference in BST (Binary Search Tree)\n",
    "- We can solve this in ONlogN by using a stack and queue (sort an array using stack problem), to go through the entire BST and have it sorted. \n",
    "- We then just compare adjacent differences.\n",
    "- Time complexity O(NlogN)\n",
    "\n",
    "Better O(N) solution?\n",
    " - We send down the parent node's value as either the upper or lowerbound based on which side of the tree we go, and compare the node with these (adjacent) bounds, because the immediate children aren't necessarily the closest nodes in a BST, but the bounds we propagate would be!\n",
    " - We'll keep track of a min global difference, which we'll update when we compare the adjacent values.\n",
    " - Return min difference.\n",
    "\n",
    "An even better solution with a clear algorithm?\n",
    " - IN ORDER TRAVERSAL because this traversal will naturally go through the nodes in a BST in order, so we just need to keep track of the previous node visited so we can update our min difference."
   ]
  },
  {
   "cell_type": "code",
   "execution_count": null,
   "metadata": {},
   "outputs": [],
   "source": [
    "class Solution:\n",
    "   def findMinimumDifferenceBST(self, root: Optional[TreeNode]) -> int:\n",
    "        bounds = [float(\"-inf\"), float(\"+inf\")]\n",
    "        nonlocal minDifference = float(\"+inf\")\n",
    "\n",
    "        def dfs(root):\n",
    "           nonlocal minDifference \n",
    "           if not root:\n",
    "            return\n",
    "           \n",
    "           minDifference = max(minDifference, abs(root.val-bounds[0]), abs(root.val-bounds[1]))\n",
    "\n",
    "           dfs(root.left, [bounds[0], root.val])\n",
    "           dfs(root.right, [root.val, bounds[1]])\n",
    "\n",
    "           return\n",
    "        \n",
    "        dfs(root, bounds)\n",
    "        return minDifference"
   ]
  },
  {
   "cell_type": "markdown",
   "metadata": {},
   "source": [
    "Delete a Node from a Binary Search Tree\n",
    " - This is a GREAT problem that combines several concepts: constructing a BST, traversing a BST, and finding a specific node in a BST."
   ]
  }
 ],
 "metadata": {
  "kernelspec": {
   "display_name": "venv",
   "language": "python",
   "name": "python3"
  },
  "language_info": {
   "name": "python",
   "version": "3.11.7"
  }
 },
 "nbformat": 4,
 "nbformat_minor": 2
}
