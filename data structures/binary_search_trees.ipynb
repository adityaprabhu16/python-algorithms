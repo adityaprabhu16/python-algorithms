{
 "cells": [
  {
   "cell_type": "markdown",
   "metadata": {},
   "source": [
    "Binary Search Trees (BST):\n",
    "A binary tree where the left child is strictly less than the subroot and the right child is strictly greater. "
   ]
  },
  {
   "cell_type": "markdown",
   "metadata": {},
   "source": [
    "Minimum Absolute Difference in BST (Binary Search Tree)\n",
    "- We can solve this in ONlogN by using a stack and queue (sort an array using stack problem), to go through the entire BST and have it sorted. \n",
    "- We then just compare adjacent differences.\n",
    "- Time complexity O(NlogN)\n",
    "\n",
    "Better O(N) solution?\n",
    " - We send down the parent node's value as either the upper or lowerbound based on which side of the tree we go, and compare the node with these (adjacent) bounds, because the immediate children aren't necessarily the closest nodes in a BST, but the bounds we propagate would be!\n",
    " - We'll keep track of a min global difference, which we'll update when we compare the adjacent values.\n",
    " - Return min difference.\n",
    "\n",
    "An even better solution with a clear algorithm?\n",
    " - IN ORDER TRAVERSAL because this traversal will naturally go through the nodes in a BST in order, so we just need to keep track of the previous node visited so we can update our min difference."
   ]
  },
  {
   "cell_type": "code",
   "execution_count": null,
   "metadata": {},
   "outputs": [],
   "source": [
    "class Solution:\n",
    "   def findMinimumDifferenceBST(self, root: Optional[TreeNode]) -> int:\n",
    "        bounds = [float(\"-inf\"), float(\"+inf\")]\n",
    "        nonlocal minDifference = float(\"+inf\")\n",
    "\n",
    "        def dfs(root):\n",
    "           nonlocal minDifference \n",
    "           if not root:\n",
    "            return\n",
    "           \n",
    "           minDifference = max(minDifference, abs(root.val-bounds[0]), abs(root.val-bounds[1]))\n",
    "\n",
    "           dfs(root.left, [bounds[0], root.val])\n",
    "           dfs(root.right, [root.val, bounds[1]])\n",
    "\n",
    "           return\n",
    "        \n",
    "        dfs(root, bounds)\n",
    "        return minDifference"
   ]
  },
  {
   "cell_type": "markdown",
   "metadata": {},
   "source": [
    "Delete a Node from a Binary Search Tree\n",
    " - This is a GREAT problem that combines several concepts: constructing a BST, traversing a BST, and finding a specific node in a BST.\n",
    " - Suppose we're given a Binary Search Tree - how would we delete the value of the node specified?\n",
    " \n",
    " - Strategy 1: Works but possibly less efficient:\n",
    " - Traversal: Traverse BST from root to find key - keep track of parent.\n",
    " - Inorder Traversal on Subtree: Do INORDER traversal to get the nodes excluding the key in the subtree.\n",
    " - Binary Search to Rebuild Subtree: Put together BST subtree using inorder travesal.\n",
    "\n",
    " -Note: doing the binary search part again to rebuild the tree is a bit inefficient since we're traversing the nodes twice.\n",
    "\n",
    " - Strategy 2: \n",
    " - Traversal: Traverse BST from root to find key.\n",
    " - Inorder Traversal to Repair Subtree: Do INORDER traversal to find the inorder successor or predecesser and update current node's value.\n",
    "    - Recall: we want to make sure BST is valid (at current node, want to ensure all left children are smaller and all right children are greater).\n",
    "    - To do this, we can either find next largest node (smallest one in the right subtree) - inorder successor, or previous smallest node (largest one in the left subtree) - in order predecessor.\n",
    " - This ensures we don't have to completely overhaul the whole tree, by making the observation that the node we need at the root of the subtree must be the next adjacent node if this was a sorted array.\n",
    " - We can use inorder traversal to find this next node the easiest by getting the inorder successor, since it's just one DFS path in the right subtree.\n",
    "\n",
    " - Time Complexity: O(logN) worst case to find the key, which will be the biggest time sink. In order traversal may also need to scale the height of the tree.\n",
    " - Edit: solution below isn't quite right, but fix this in a couple weeks to practice it. Try implementing via both ways so you truly understand the traversal of a BST, even if you need to sketch it out.\n",
    "    "
   ]
  },
  {
   "cell_type": "code",
   "execution_count": null,
   "metadata": {},
   "outputs": [
    {
     "ename": "NameError",
     "evalue": "name 'Optional' is not defined",
     "output_type": "error",
     "traceback": [
      "\u001b[31m---------------------------------------------------------------------------\u001b[39m",
      "\u001b[31mNameError\u001b[39m                                 Traceback (most recent call last)",
      "\u001b[36mCell\u001b[39m\u001b[36m \u001b[39m\u001b[32mIn[1]\u001b[39m\u001b[32m, line 1\u001b[39m\n\u001b[32m----> \u001b[39m\u001b[32m1\u001b[39m \u001b[38;5;28;43;01mclass\u001b[39;49;00m\u001b[38;5;250;43m \u001b[39;49m\u001b[34;43;01mSolution\u001b[39;49;00m\u001b[43m:\u001b[49m\n\u001b[32m      2\u001b[39m \u001b[43m    \u001b[49m\u001b[38;5;28;43;01mdef\u001b[39;49;00m\u001b[38;5;250;43m \u001b[39;49m\u001b[34;43mdeleteNode\u001b[39;49m\u001b[43m(\u001b[49m\u001b[38;5;28;43mself\u001b[39;49m\u001b[43m,\u001b[49m\u001b[43m \u001b[49m\u001b[43mroot\u001b[49m\u001b[43m:\u001b[49m\u001b[43m \u001b[49m\u001b[43mOptional\u001b[49m\u001b[43m[\u001b[49m\u001b[43mTreeNode\u001b[49m\u001b[43m]\u001b[49m\u001b[43m,\u001b[49m\u001b[43m \u001b[49m\u001b[43mkey\u001b[49m\u001b[43m:\u001b[49m\u001b[43m \u001b[49m\u001b[38;5;28;43mint\u001b[39;49m\u001b[43m)\u001b[49m\u001b[43m \u001b[49m\u001b[43m-\u001b[49m\u001b[43m>\u001b[49m\u001b[43m \u001b[49m\u001b[43mOptional\u001b[49m\u001b[43m[\u001b[49m\u001b[43mTreeNode\u001b[49m\u001b[43m]\u001b[49m\u001b[43m:\u001b[49m\n\u001b[32m      3\u001b[39m \u001b[43m        \u001b[49m\u001b[38;5;66;43;03m#1. Find Node in BST:\u001b[39;49;00m\n\u001b[32m      4\u001b[39m \u001b[43m        \u001b[49m\u001b[43mcurr\u001b[49m\u001b[43m \u001b[49m\u001b[43m=\u001b[49m\u001b[43m \u001b[49m\u001b[38;5;28;43;01mNone\u001b[39;49;00m\u001b[43m  \u001b[49m\u001b[38;5;66;43;03m#Node to delete\u001b[39;49;00m\n",
      "\u001b[36mCell\u001b[39m\u001b[36m \u001b[39m\u001b[32mIn[1]\u001b[39m\u001b[32m, line 2\u001b[39m, in \u001b[36mSolution\u001b[39m\u001b[34m()\u001b[39m\n\u001b[32m      1\u001b[39m \u001b[38;5;28;01mclass\u001b[39;00m\u001b[38;5;250m \u001b[39m\u001b[34;01mSolution\u001b[39;00m:\n\u001b[32m----> \u001b[39m\u001b[32m2\u001b[39m     \u001b[38;5;28;01mdef\u001b[39;00m\u001b[38;5;250m \u001b[39m\u001b[34mdeleteNode\u001b[39m(\u001b[38;5;28mself\u001b[39m, root: \u001b[43mOptional\u001b[49m[TreeNode], key: \u001b[38;5;28mint\u001b[39m) -> Optional[TreeNode]:\n\u001b[32m      3\u001b[39m         \u001b[38;5;66;03m#1. Find Node in BST:\u001b[39;00m\n\u001b[32m      4\u001b[39m         curr = \u001b[38;5;28;01mNone\u001b[39;00m  \u001b[38;5;66;03m#Node to delete\u001b[39;00m\n\u001b[32m      5\u001b[39m         parent = \u001b[38;5;28;01mNone\u001b[39;00m \u001b[38;5;66;03m#It's parent so we can reconnect BST\u001b[39;00m\n",
      "\u001b[31mNameError\u001b[39m: name 'Optional' is not defined"
     ]
    }
   ],
   "source": [
    "class Solution:\n",
    "    def deleteNode(self, root: Optional[TreeNode], key: int) -> Optional[TreeNode]:\n",
    "        #1. Find Node in BST:\n",
    "        curr = None\n",
    "        def dfs(node):\n",
    "            nonlocal curr\n",
    "            if not node:\n",
    "                return None\n",
    "            \n",
    "            if curr:\n",
    "                return\n",
    "            \n",
    "            if node.val == key:\n",
    "                curr = node\n",
    "                return\n",
    "\n",
    "            if key > node.val:\n",
    "                dfs(node.right)\n",
    "            else:\n",
    "                dfs(node.left)\n",
    "            return\n",
    "        \n",
    "        #now that we have our node with curr.val = key:\n",
    "        #starting at curr, we'll decide which way inOrder traversal is needed.\n",
    "        successor = \"none\"\n",
    "        def inOrder(node):\n",
    "            #we've found our successor.\n",
    "            if not curr.left and not curr.right:\n",
    "                return curr\n",
    "            \n",
    "            if not curr.left:\n",
    "                return None\n",
    "            \n",
    "            if not curr.right:\n",
    "                return None\n",
    "            \n",
    "            if successor is \"right\":\n",
    "                #go DFS left first, until we can't then right\n",
    "                child = dfs(node.left)\n",
    "                if child:\n",
    "                    node.left = None\n",
    "                    return child\n",
    "                return dfs(node.right)\n",
    "            elif successor is \"left\":\n",
    "                child = dfs(node.right)\n",
    "                if child:\n",
    "                    node.right = None\n",
    "                    return child\n",
    "                return dfs(node.left)\n",
    "\n",
    "        if curr.right:\n",
    "            successor = \"right\" \n",
    "            inOrder(curr.right)    \n",
    "        else:\n",
    "            successor = \"left\"\n",
    "            inOrder(curr.left)\n",
    "\n",
    "        #that should've updated the root!\n",
    "        return root        "
   ]
  }
 ],
 "metadata": {
  "kernelspec": {
   "display_name": "venv",
   "language": "python",
   "name": "python3"
  },
  "language_info": {
   "codemirror_mode": {
    "name": "ipython",
    "version": 3
   },
   "file_extension": ".py",
   "mimetype": "text/x-python",
   "name": "python",
   "nbconvert_exporter": "python",
   "pygments_lexer": "ipython3",
   "version": "3.11.7"
  }
 },
 "nbformat": 4,
 "nbformat_minor": 2
}
