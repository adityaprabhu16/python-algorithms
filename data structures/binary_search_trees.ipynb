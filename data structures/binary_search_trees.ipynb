{
 "cells": [
  {
   "cell_type": "markdown",
   "metadata": {},
   "source": [
    "Binary Search Trees (BST):\n",
    "A binary tree where the left child is strictly less than the subroot and the right child is strictly greater. "
   ]
  },
  {
   "cell_type": "markdown",
   "metadata": {},
   "source": [
    "Minimum Absolute Difference in BST (Binary Search Tree)\n",
    "- We can solve this in ONlogN by using a stack and queue (sort an array using stack problem), to go through the entire BST and have it sorted. \n",
    "- We then just compare adjacent differences.\n",
    "- Time complexity O(NlogN)\n",
    "\n",
    "Better O(N) solution?\n",
    " - We send down the parent node's value as either the upper or lowerbound based on which side of the tree we go, and compare the node with these (adjacent) bounds, because the immediate children aren't necessarily the closest nodes in a BST, but the bounds we propagate would be!\n",
    " - We'll keep track of a min global difference, which we'll update when we compare the adjacent values.\n",
    " - Return min difference.\n",
    "\n",
    "An even better solution with a clear algorithm?\n",
    " - IN ORDER TRAVERSAL because this traversal will naturally go through the nodes in a BST in order, so we just need to keep track of the previous node visited so we can update our min difference."
   ]
  },
  {
   "cell_type": "code",
   "execution_count": null,
   "metadata": {},
   "outputs": [],
   "source": [
    "class Solution:\n",
    "   def findMinimumDifferenceBST(self, root: Optional[TreeNode]) -> int:\n",
    "        bounds = [float(\"-inf\"), float(\"+inf\")]\n",
    "        nonlocal minDifference = float(\"+inf\")\n",
    "\n",
    "        def dfs(root):\n",
    "           nonlocal minDifference \n",
    "           if not root:\n",
    "            return\n",
    "           \n",
    "           minDifference = max(minDifference, abs(root.val-bounds[0]), abs(root.val-bounds[1]))\n",
    "\n",
    "           dfs(root.left, [bounds[0], root.val])\n",
    "           dfs(root.right, [root.val, bounds[1]])\n",
    "\n",
    "           return\n",
    "        \n",
    "        dfs(root, bounds)\n",
    "        return minDifference"
   ]
  },
  {
   "cell_type": "markdown",
   "metadata": {},
   "source": [
    "Delete a Node from a Binary Search Tree\n",
    " - This is a GREAT problem that combines several concepts: constructing a BST, traversing a BST, and finding a specific node in a BST.\n",
    " - Suppose we're given a Binary Search Tree - how would we delete the value of the node specified?\n",
    " - Strategy:\n",
    "    - 1. Traverse BST: First, let's find the node value we need to delete - keep track of the parent so we can amend its left or right branch after node is deleted.\n",
    "    - 2. Construct BST: From our target node and onwards, we're going to have to repair the binary search tree.\n",
    "    - 3. Once binary search tree repaired, we'll have parent point to that subtree.\n",
    "    - 4. Return the original root node.\n",
    "\n",
    "- How to amend a BST?\n",
    "- We're just going to have a construct a BST: compare the children and choose one of them as the new root so that BST is satisfied: assign the value of the child node that is larger as the new root, then dfs on the right subtree, continuing to shift the right nodes up. That's it. In the case there isn't a right subtree, we'll try left, then continue collapsing up the right child nodes for that left subtree.\n",
    "- Doing DFS this way has the effect of shifting our nodes up. Going right first ensures our parent continues to stay bigger than the left, and then we percolate up.\n",
    "\n",
    "Understand inorder traversal for this problem."
   ]
  },
  {
   "cell_type": "code",
   "execution_count": null,
   "metadata": {},
   "outputs": [
    {
     "ename": "NameError",
     "evalue": "name 'Optional' is not defined",
     "output_type": "error",
     "traceback": [
      "\u001b[31m---------------------------------------------------------------------------\u001b[39m",
      "\u001b[31mNameError\u001b[39m                                 Traceback (most recent call last)",
      "\u001b[36mCell\u001b[39m\u001b[36m \u001b[39m\u001b[32mIn[1]\u001b[39m\u001b[32m, line 1\u001b[39m\n\u001b[32m----> \u001b[39m\u001b[32m1\u001b[39m \u001b[38;5;28;43;01mclass\u001b[39;49;00m\u001b[38;5;250;43m \u001b[39;49m\u001b[34;43;01mSolution\u001b[39;49;00m\u001b[43m:\u001b[49m\n\u001b[32m      2\u001b[39m \u001b[43m    \u001b[49m\u001b[38;5;28;43;01mdef\u001b[39;49;00m\u001b[38;5;250;43m \u001b[39;49m\u001b[34;43mdeleteNode\u001b[39;49m\u001b[43m(\u001b[49m\u001b[38;5;28;43mself\u001b[39;49m\u001b[43m,\u001b[49m\u001b[43m \u001b[49m\u001b[43mroot\u001b[49m\u001b[43m:\u001b[49m\u001b[43m \u001b[49m\u001b[43mOptional\u001b[49m\u001b[43m[\u001b[49m\u001b[43mTreeNode\u001b[49m\u001b[43m]\u001b[49m\u001b[43m,\u001b[49m\u001b[43m \u001b[49m\u001b[43mkey\u001b[49m\u001b[43m:\u001b[49m\u001b[43m \u001b[49m\u001b[38;5;28;43mint\u001b[39;49m\u001b[43m)\u001b[49m\u001b[43m \u001b[49m\u001b[43m-\u001b[49m\u001b[43m>\u001b[49m\u001b[43m \u001b[49m\u001b[43mOptional\u001b[49m\u001b[43m[\u001b[49m\u001b[43mTreeNode\u001b[49m\u001b[43m]\u001b[49m\u001b[43m:\u001b[49m\n\u001b[32m      3\u001b[39m \u001b[43m        \u001b[49m\u001b[38;5;66;43;03m#1. Find Node in BST:\u001b[39;49;00m\n\u001b[32m      4\u001b[39m \u001b[43m        \u001b[49m\u001b[43mcurr\u001b[49m\u001b[43m \u001b[49m\u001b[43m=\u001b[49m\u001b[43m \u001b[49m\u001b[38;5;28;43;01mNone\u001b[39;49;00m\u001b[43m  \u001b[49m\u001b[38;5;66;43;03m#Node to delete\u001b[39;49;00m\n",
      "\u001b[36mCell\u001b[39m\u001b[36m \u001b[39m\u001b[32mIn[1]\u001b[39m\u001b[32m, line 2\u001b[39m, in \u001b[36mSolution\u001b[39m\u001b[34m()\u001b[39m\n\u001b[32m      1\u001b[39m \u001b[38;5;28;01mclass\u001b[39;00m\u001b[38;5;250m \u001b[39m\u001b[34;01mSolution\u001b[39;00m:\n\u001b[32m----> \u001b[39m\u001b[32m2\u001b[39m     \u001b[38;5;28;01mdef\u001b[39;00m\u001b[38;5;250m \u001b[39m\u001b[34mdeleteNode\u001b[39m(\u001b[38;5;28mself\u001b[39m, root: \u001b[43mOptional\u001b[49m[TreeNode], key: \u001b[38;5;28mint\u001b[39m) -> Optional[TreeNode]:\n\u001b[32m      3\u001b[39m         \u001b[38;5;66;03m#1. Find Node in BST:\u001b[39;00m\n\u001b[32m      4\u001b[39m         curr = \u001b[38;5;28;01mNone\u001b[39;00m  \u001b[38;5;66;03m#Node to delete\u001b[39;00m\n\u001b[32m      5\u001b[39m         parent = \u001b[38;5;28;01mNone\u001b[39;00m \u001b[38;5;66;03m#It's parent so we can reconnect BST\u001b[39;00m\n",
      "\u001b[31mNameError\u001b[39m: name 'Optional' is not defined"
     ]
    }
   ],
   "source": [
    "class Solution:\n",
    "    def deleteNode(self, root: Optional[TreeNode], key: int) -> Optional[TreeNode]:\n",
    "        #1. Find Node in BST:\n",
    "        curr = None  #Node to delete\n",
    "        parent = None #It's parent so we can reconnect BST\n",
    "\n",
    "        def dfs(root):\n",
    "            nonlocal parent\n",
    "            nonlocal curr\n",
    "\n",
    "            #we shouldn't get here because key should exist in BST.\n",
    "            if not root:\n",
    "                return None\n",
    "            \n",
    "            #don't go through any more iterations if found curr.\n",
    "            if curr:\n",
    "                return \n",
    "\n",
    "            #If we found the key, save it. \n",
    "            if key == root.val:\n",
    "                curr = root\n",
    "                return\n",
    "            \n",
    "            #Update parent before we go into next iteration.\n",
    "            parent = root\n",
    "\n",
    "            #BST Part:\n",
    "            if key > root.val:\n",
    "                dfs(root.right)\n",
    "            elif key < root.val:\n",
    "                dfs(root.left)\n",
    "            \n",
    "            return\n",
    "\n",
    "        direction = \"n\"\n",
    "        if parent and parent.right is curr:\n",
    "            direction = \"right\"\n",
    "        elif parent and parent.left is curr:\n",
    "            direction = \"left\"\n",
    "        \n",
    "        #Now that we've found the node to delete, we'll pass it to a DFS that will rearrange it by replacing the parent.\n",
    "        def deleteNode(curr):\n",
    "            #Base case, curr has no children, so we just return None (deleted the node)\n",
    "            if not curr.left or not curr.right:\n",
    "                return None\n",
    "            \n",
    "            #Shift BST prioritizing right (collapsing), then DFS on left to do the same thing.\n",
    "            if curr.right:\n",
    "                curr.val = curr.right.val\n",
    "                curr.right = dfs(curr.right)\n",
    "            elif curr.left:\n",
    "                dfs(curr.left)\n",
    "            \n",
    "            return curr\n",
    "\n",
    "        newTree = deleteNode(curr)\n",
    "\n",
    "        if direction is \"right\":\n",
    "            parent.right = newTree\n",
    "        elif direction is \"left\":\n",
    "            parent.left = newTree\n",
    "        else:\n",
    "            #we deleted the root node, return the reconstructed tree.\n",
    "            return newTree\n",
    "        \n",
    "        return root"
   ]
  }
 ],
 "metadata": {
  "kernelspec": {
   "display_name": "venv",
   "language": "python",
   "name": "python3"
  },
  "language_info": {
   "codemirror_mode": {
    "name": "ipython",
    "version": 3
   },
   "file_extension": ".py",
   "mimetype": "text/x-python",
   "name": "python",
   "nbconvert_exporter": "python",
   "pygments_lexer": "ipython3",
   "version": "3.11.7"
  }
 },
 "nbformat": 4,
 "nbformat_minor": 2
}
