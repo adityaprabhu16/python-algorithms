{
 "cells": [
  {
   "cell_type": "markdown",
   "id": "0d6197d8",
   "metadata": {},
   "source": [
    "Difference between Priority Queue and Monotonic Queue:\n",
    " - A Priority Queue is usually implemented as a min or max heap. It's efficient to grab the min or max in O(1) time, but inserting or removing elements takes O(logn) time. Removing an arbitrary element (not from the top) is not efficient and cane take O(logn) to repair the heap. Ordering an existing list of elements into a heap takes O(n) amortized time. \n",
    " - A monotonic queue is just a deque that maintains an increasing or decreasing order to track the min/max within a sliding window. It supports insert and removal in O(1) amortized time but the logic is tailored to the specific problem."
   ]
  },
  {
   "cell_type": "markdown",
   "id": "edda1106",
   "metadata": {},
   "source": [
    "Sliding Window Maximum:\n",
    " - Uses the monotonic decreasing queue order in order to maintain the maximum elements for the window at the beginning of the array.\n",
    " - Strategy:\n",
    "     - 1. We'll go through each element in nums\n",
    "     - 2. Add to end of deque: if queue is not in the right order, we'll pop from the RIGHT UNTIL we can append our new element. If the element is smaller than what's at the end, we'll just append to the end as normal.\n",
    "     - 3. Once the root dq[0] goes out of bounds, we'll pop it from the LEFT, ensuring we're always maintaining the max for the current interval.\n",
    "     - 4. Only start appending to res once our index is >= k-1 to ensure we only start adding the max to the window once we have an interval."
   ]
  }
 ],
 "metadata": {
  "language_info": {
   "name": "python"
  }
 },
 "nbformat": 4,
 "nbformat_minor": 5
}
