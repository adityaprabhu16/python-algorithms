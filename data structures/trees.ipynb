{
 "cells": [
  {
   "cell_type": "markdown",
   "metadata": {},
   "source": [
    "Min Depth of Binary Tree\n",
    " - Given a binary tree, we need to find the min depth.\n",
    " - What we'll do: send up the minimum height of each subtree (it would be either the right or the left subtree's height)\n",
    " - The root will therefore have accumulated the min height of its two subtrees\n",
    " - Use recursive DFS to solve this problem. "
   ]
  },
  {
   "cell_type": "code",
   "execution_count": null,
   "metadata": {},
   "outputs": [],
   "source": [
    "def minDepth(self, root: Optional[TreeNode]) -> int:\n",
    "    def dfs(root):\n",
    "        if root == None:\n",
    "            return 0 \n",
    "        \n",
    "        leftHeight = 1 + dfs(root.left)\n",
    "        rightHeight = 1 + dfs(root.right)\n",
    "\n",
    "        #if either left or rightHeight is 1, that means it has no children in that subtree, and we are only counting  so we need to disregard it.\n",
    "        if (leftHeight == 1 and rightHeight > 1):\n",
    "            return rightHeight\n",
    "        elif (leftHeight > 1 and rightHeight == 1):\n",
    "            return leftHeight\n",
    "        return min(rightHeight, leftHeight)\n",
    "    return dfs(root)"
   ]
  },
  {
   "cell_type": "markdown",
   "metadata": {},
   "source": [
    "Possibly a preferable solution\n",
    " - Breadth First Search (BFS)\n",
    " - That way, we can terminate early once we've reached the first leaf node instead of having to explore the entire tree to confirm we have the minimum.\n",
    " - We'll use a queue to go through each level of the tree as well as keep track of the current level (the height) with it being 1-indexed.\n",
    " - Once we've encountered the first leaf node in the queue, we break and return the level we're on so far, the rest of the tree doesn't need to be explored.\n",
    " - This does not require recursion: just needs a while loop (while queue is not empty) and the inner being a for loop to completely explore the current level.\n",
    "\n",
    "\n",
    "Another Strategy (also BFS):\n",
    " - Keep track of the (node, level) using a tuple, that way, we'll always know what level we're on instead of having a running computation for the height.\n",
    " - Note: check before we put a node in the queue so we aren't putting an empty node. If we do, the logic breaks because now we would end up attempting to access a NoneType which wouldn't have a .left and .right attribute."
   ]
  },
  {
   "cell_type": "code",
   "execution_count": null,
   "metadata": {},
   "outputs": [],
   "source": [
    "import collections\n",
    "def minDepth(self, root: Optional[TreeNode]) -> int:\n",
    "    q = collections.deque()\n",
    "    \n",
    "    q.append((root,1))\n",
    "    \n",
    "    level = 2\n",
    "    while q:\n",
    "        qLen = len(q)\n",
    "        for _ in range(qLen):\n",
    "            #tuples are immutable - we can read them, but can't update or overwrite them! \n",
    "            tup = q.popleft()\n",
    "            node = tup[0]\n",
    "            #found our leaf:\n",
    "            if not node.left and not node.right:\n",
    "                return tup[1] #return the level\n",
    "\n",
    "            if node.left:\n",
    "                q.append((node.left, level))\n",
    "            if node.right:\n",
    "                q.append((node.right, level))\n",
    "\n",
    "        level += 1"
   ]
  },
  {
   "cell_type": "markdown",
   "metadata": {},
   "source": [
    "Max Depth of Binary Tree:\n",
    " - Similar problem, except now we let BFS complete (which indicates we've reached the furthest leaf nodes from the root), this would be our maxLevel\n",
    " - Since we won't be able to return here early, keep track of the maxLevel in a separate variable.\n",
    " - BFS for this problem is much faster than DFS because we explore exactly the levels we need."
   ]
  },
  {
   "cell_type": "code",
   "execution_count": null,
   "metadata": {},
   "outputs": [],
   "source": [
    "import collections\n",
    "def maxDepth(self, root: Optional[TreeNode]) -> int:\n",
    "    maxLevel = 0\n",
    "    q = collections.deque()\n",
    "\n",
    "    if not root:\n",
    "        return maxLevel\n",
    "    \n",
    "    q.append(root)\n",
    "    \n",
    "    #Now we're ready for BFS (Level Order Traversal)\n",
    "    while q:\n",
    "        qLen = len(q) #number of nodes on current level\n",
    "        #since while condition passed, we've traversed a level successfully:\n",
    "        maxLevel += 1\n",
    "        for _ in range(qLen):\n",
    "            node = q.popleft()\n",
    "            \n",
    "            if node.left:\n",
    "                q.append(node.left)\n",
    "            if node.right:\n",
    "                q.append(node.right)\n",
    "    return maxLevel\n",
    "    "
   ]
  }
 ],
 "metadata": {
  "kernelspec": {
   "display_name": "venv",
   "language": "python",
   "name": "python3"
  },
  "language_info": {
   "name": "python",
   "version": "3.11.7"
  }
 },
 "nbformat": 4,
 "nbformat_minor": 2
}
