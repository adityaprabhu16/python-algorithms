{
 "cells": [
  {
   "cell_type": "markdown",
   "metadata": {},
   "source": [
    "Min Depth of Binary Tree\n",
    " - Given a binary tree, we need to find the min depth.\n",
    " - What we'll do: send up the minimum height of each subtree (it would be either the right or the left subtree's height)\n",
    " - The root will therefore have accumulated the min height of its two subtrees\n",
    " - Use recursive DFS to solve this problem. "
   ]
  },
  {
   "cell_type": "code",
   "execution_count": null,
   "metadata": {},
   "outputs": [],
   "source": [
    "class Solution:\n",
    "    def minDepth(self, root: Optional[TreeNode]) -> int:\n",
    "        def dfs(root):\n",
    "            if root == None:\n",
    "                return 0 \n",
    "            \n",
    "            leftHeight = 1 + dfs(root.left)\n",
    "            rightHeight = 1 + dfs(root.right)\n",
    "\n",
    "            #if either left or rightHeight is 1, that means it has no children in that subtree, and we are only counting  so we need to disregard it.\n",
    "            if (leftHeight == 1 and rightHeight > 1):\n",
    "                return rightHeight\n",
    "            elif (leftHeight > 1 and rightHeight == 1):\n",
    "                return leftHeight\n",
    "            return min(rightHeight, leftHeight)\n",
    "        return dfs(root)"
   ]
  },
  {
   "cell_type": "markdown",
   "metadata": {},
   "source": [
    "Possibly a preferable solution\n",
    " - Breadth First Search (BFS)\n",
    " - That way, we can terminate early once we've reached the first leaf node instead of having to explore the entire tree to confirm we have the minimum.\n",
    " - We'll use a queue to go through each level of the tree as well as keep track of the current level (the height) with it being 1-indexed.\n",
    " - Once we've encountered the first leaf node in the queue, we break and return the level we're on so far, the rest of the tree doesn't need to be explored.\n",
    " - This does not require recursion: just needs a while loop (while queue is not empty) and the inner being a for loop to completely explore the current level.\n",
    "\n",
    "\n",
    "Another Strategy (also BFS):\n",
    " - Keep track of the (node, level) using a tuple, that way, we'll always know what level we're on instead of having a running computation for the height.\n",
    " - Note: check before we put a node in the queue so we aren't putting an empty node. If we do, the logic breaks because now we would end up attempting to access a NoneType which wouldn't have a .left and .right attribute."
   ]
  },
  {
   "cell_type": "code",
   "execution_count": null,
   "metadata": {},
   "outputs": [],
   "source": [
    "import collections\n",
    "\n",
    "class Solution:\n",
    "    def minDepth(self, root: Optional[TreeNode]) -> int:\n",
    "        q = collections.deque()\n",
    "        \n",
    "        q.append((root,1))\n",
    "        \n",
    "        level = 2\n",
    "        while q:\n",
    "            qLen = len(q)\n",
    "            for _ in range(qLen):\n",
    "                #tuples are immutable - we can read them, but can't update or overwrite them! \n",
    "                tup = q.popleft()\n",
    "                node = tup[0]\n",
    "                #found our leaf:\n",
    "                if not node.left and not node.right:\n",
    "                    return tup[1] #return the level\n",
    "\n",
    "                if node.left:\n",
    "                    q.append((node.left, level))\n",
    "                if node.right:\n",
    "                    q.append((node.right, level))\n",
    "\n",
    "            level += 1"
   ]
  },
  {
   "cell_type": "markdown",
   "metadata": {},
   "source": [
    "Max Depth of Binary Tree:\n",
    " - Similar problem, except now we let BFS complete (which indicates we've reached the furthest leaf nodes from the root), this would be our maxLevel\n",
    " - Since we won't be able to return here early, keep track of the maxLevel in a separate variable.\n",
    " - BFS for this problem is much faster than DFS because we explore exactly the levels we need."
   ]
  },
  {
   "cell_type": "code",
   "execution_count": null,
   "metadata": {},
   "outputs": [],
   "source": [
    "import collections\n",
    "class Solution:\n",
    "    def maxDepth(self, root: Optional[TreeNode]) -> int:\n",
    "        maxLevel = 0\n",
    "        q = collections.deque()\n",
    "\n",
    "        if not root:\n",
    "            return maxLevel\n",
    "        \n",
    "        q.append(root)\n",
    "        \n",
    "        #Now we're ready for BFS (Level Order Traversal)\n",
    "        while q:\n",
    "            qLen = len(q) #number of nodes on current level\n",
    "            #since while condition passed, we've traversed a level successfully:\n",
    "            maxLevel += 1\n",
    "            for _ in range(qLen):\n",
    "                node = q.popleft()\n",
    "                \n",
    "                if node.left:\n",
    "                    q.append(node.left)\n",
    "                if node.right:\n",
    "                    q.append(node.right)\n",
    "        return maxLevel\n",
    "    "
   ]
  },
  {
   "cell_type": "markdown",
   "metadata": {},
   "source": [
    "DFS Recursion using the original function to find maxDepth:\n",
    " - Unlike minDepth (because we can't treat an empty subtree and the current root as a height of 1 as it will throw off the minHeight computation),\n",
    " - maxDepth is easier because max() will always go for the most \"full\" part of the tree, so we can actually just use maxDepth function in the DFS recursion since we don't need to do any additional processing or checks.\n",
    " - Remember, when referring to a function that's inside the top level of a class, we need to use self."
   ]
  },
  {
   "cell_type": "code",
   "execution_count": null,
   "metadata": {},
   "outputs": [],
   "source": [
    "class Solution: \n",
    "    def maxDepth(self, root: Optional[TreeNode]) -> int:\n",
    "        if not root: #empty subtree has 0 height\n",
    "            return 0 \n",
    "\n",
    "        return max(self.maxDepth(root.left), self.maxDepth(root.right)) + 1 #include the current level when subtree computation finishes"
   ]
  },
  {
   "cell_type": "markdown",
   "metadata": {},
   "source": [
    "Find Min / Max in Binary Tree:\n",
    " - Note, this isn't a binary search tree (BST), so the tree is not sorted in any way where we can eliminate subtrees.\n",
    " - Instead, just do BFS and update your max / min respectively when a new max/min found.\n",
    " - We're going to be exploring the entire tree - in a binary tree, leaf nodes will make up roughly 50% of the tree, so our queue will eventually hold maximum floor(N/2) nodes\n",
    " - Therefore, memory complexity is O(N), along with time complexity which is O(N)"
   ]
  },
  {
   "cell_type": "code",
   "execution_count": null,
   "metadata": {},
   "outputs": [],
   "source": [
    "#Similar process with max.\n",
    "def TreeMin(self, root: Optional[TreeNode]) -> int:\n",
    "    q = collections.deque()\n",
    "    minVal = float(\"-inf\")\n",
    "    if not root:\n",
    "        return minVal\n",
    "    q.append(root)\n",
    "    #we're going to be exploring the whole tree O(N) with O(floor(N/2)) complexity (because roughly half of the tree will be leaves)\n",
    "    while q:\n",
    "        qLen = len(q)\n",
    "        #Go through the entire current level (level-order traversal)\n",
    "        for _ in range(qLen):\n",
    "            node = q.popleft()\n",
    "            minVal = min(node.val, minVal)\n",
    "            #tree might not necessarily be perfect\n",
    "            if node.left:\n",
    "                q.append(node.left)\n",
    "            if node.right:\n",
    "                q.append(node.right)\n",
    "    return minVal\n",
    "        \n"
   ]
  },
  {
   "cell_type": "markdown",
   "metadata": {},
   "source": [
    "Binary Tree Level Order Traversal:\n",
    " - Place nodes for a level into a queue.\n",
    " - Go through the nodes left to right (popleft)\n",
    " - We'll then append the node values to an array.\n",
    " - Time complexity O(N), Memory Complexity O(N) because the queue will have ~N/2 nodes on the very last level"
   ]
  },
  {
   "cell_type": "code",
   "execution_count": null,
   "metadata": {},
   "outputs": [],
   "source": [
    "class Solution:\n",
    "    def levelOrder(self, root: Optional[TreeNode]) -> List[List[int]]:\n",
    "        q = collections.deque()\n",
    "        if not root:\n",
    "            return []\n",
    "        q.append(node)\n",
    "        res = []\n",
    "        while q:\n",
    "            qLen = len(q)\n",
    "            level = []\n",
    "            for _ in range(qLen):\n",
    "                node = q.popleft()\n",
    "                level.append(node.val)\n",
    "                if node.left:\n",
    "                    q.append(node.left)\n",
    "                if node.right:\n",
    "                    q.append(node.right)\n",
    "        res.append(level)\n",
    "        return res"
   ]
  },
  {
   "cell_type": "markdown",
   "metadata": {},
   "source": [
    "Same Tree:\n",
    " - Good example of solving with DFS.\n",
    " - We can do this with recursive DFS, stack DFS, or even queue BFS\n",
    " - with recursive DFS, we can use self to refer to the original function.\n",
    " - Remember subtrees are still trees, so once we're done comparing the parent, we'll check the left and right subtrees to make sure they're the same.\n",
    " - Base case: we've made it all the way to the bottom (not p and not q), return True\n",
    " - Base case: if the tree is not the same structure (not p or not q), return False\n",
    " - Recursive check: if p.val != q.val, return False, otherwise continue with DFS"
   ]
  },
  {
   "cell_type": "code",
   "execution_count": null,
   "metadata": {},
   "outputs": [],
   "source": [
    "class Solution:\n",
    "    def isSameTree(self, p: Optional[TreeNode], q: Optional[TreeNode]) -> bool:\n",
    "        if not p and not q:\n",
    "            return True\n",
    "\n",
    "        if not p or not q:\n",
    "            return False\n",
    "        \n",
    "        #Now we know we're not at the end of the tree.\n",
    "        if p.val != q.val:\n",
    "            return False\n",
    "        "
   ]
  }
 ],
 "metadata": {
  "kernelspec": {
   "display_name": "venv",
   "language": "python",
   "name": "python3"
  },
  "language_info": {
   "name": "python",
   "version": "3.11.7"
  }
 },
 "nbformat": 4,
 "nbformat_minor": 2
}
