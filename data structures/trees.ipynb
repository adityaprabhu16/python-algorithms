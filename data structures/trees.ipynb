{
 "cells": [
  {
   "cell_type": "markdown",
   "metadata": {},
   "source": [
    "Min Depth of Binary Tree\n",
    " - Given a binary tree, we need to find the min depth.\n",
    " - What we'll do: send up the minimum height of each subtree (it would be either the right or the left subtree's height)\n",
    " - The root will therefore have accumulated the min height of its two subtrees\n",
    " - Use recursive DFS to solve this problem. "
   ]
  },
  {
   "cell_type": "code",
   "execution_count": null,
   "metadata": {},
   "outputs": [],
   "source": [
    "def minDepth(self, root: Optional[TreeNode]) -> int:\n",
    "    def dfs(root):\n",
    "        if root == None:\n",
    "            return 0 \n",
    "        \n",
    "        leftHeight = 1 + dfs(root.left)\n",
    "        rightHeight = 1 + dfs(root.right)\n",
    "\n",
    "        #if either left or rightHeight is 1, that means it has no children in that subtree, and we are only counting  so we need to disregard it.\n",
    "        if (leftHeight == 1 and rightHeight > 1):\n",
    "            return rightHeight\n",
    "        elif (leftHeight > 1 and rightHeight == 1):\n",
    "            return leftHeight\n",
    "        return min(rightHeight, leftHeight)\n",
    "    return dfs(root)"
   ]
  },
  {
   "cell_type": "markdown",
   "metadata": {},
   "source": [
    "Possibly a preferable solution\n",
    " - Breadth First Search (BFS)\n",
    " - That way, we can terminate early once we've reached the first leaf node instead of having to explore the entire tree to confirm we have the minimum.\n",
    " - We'll use a queue to go through each level of the tree as well as keep track of the current level (the height) with it being 1-indexed.\n",
    " - Once we've encountered the first leaf node in the queue, we break and return the level we're on so far, the rest of the tree doesn't need to be explored.\n",
    " - This does not require recursion: just needs a while loop (while queue is not empty) and the inner being a for loop to completely explore the current level."
   ]
  }
 ],
 "metadata": {
  "kernelspec": {
   "display_name": "venv",
   "language": "python",
   "name": "python3"
  },
  "language_info": {
   "name": "python",
   "version": "3.11.7"
  }
 },
 "nbformat": 4,
 "nbformat_minor": 2
}
