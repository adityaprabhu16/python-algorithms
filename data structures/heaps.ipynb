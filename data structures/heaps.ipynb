{
 "cells": [
  {
   "cell_type": "markdown",
   "metadata": {},
   "source": [
    "Heap Data Structure:\n",
    " - A complete binary tree that satisfies the heap property.\n",
    " - Complete Binary Tree: every level, except for the leaves, is completely filled & all of the nodes in the last level are filled from the left.\n",
    " - Heap Property: For every node, the value of its children is less than or equal to its own value (max heap) or vice versa (min heap)\n",
    "    - Therefore, the smallest or largest element will always be at the root of the tree.\n",
    "- Applications: Used for implementing a priority queue, and heapsort."
   ]
  },
  {
   "cell_type": "markdown",
   "metadata": {},
   "source": [
    "Heap Methods:\n",
    " - Heapify (building a max heap FROM SCRATCH): O(n)\n",
    " - Insert (Push) O(logN)\n",
    " - Delete        O(logN)\n",
    " - Pop Min / Max O(logN)\n",
    " - Peek O(1)"
   ]
  },
  {
   "cell_type": "markdown",
   "metadata": {},
   "source": [
    "Why?\n",
    " - Insert, Delete, Pop may cause the heap to no longer have its heap property, so the tree needs to be repaired. Because the tree has already been built, worst case some nodes may need to be swapped all the way to the bottom, which would require O(logN) calls to our heapify proportional to the height of the tree.\n",
    " - Peek is O(1) because the root node, which will be the maximum or minimum value, will be at the front of the array and we can just access it via indexing.\n",
    " - Building the heap is O(n), which is counter-intuitive at first. We might think it should be proportional to O(NlogN) because we'll have to go through each node and it will take O(logN) worst-case to find its correct location. In reality, since we're building the heap from scratch, we're starting at floor(N/2) and working our way to index 0 in our array: note that floor(N/2 + 1) : N are all leaf nodes (roughly half of a complete binary tree will be leaf nodes). Since we build the tree at the first parents of the leaf nodes and working our way up, swaps for the MOST PART will be O(1) time. In other words, most nodes will not have to move much because they'll already be at the bottom of the tree and will be swapping between adjacent nodes. Only the very few nodes at the top of the tree might need O(logN) but the operation gets dominated by the lower nodes. Meanwhile, insert and delete are O(logN) because they generally impact the top of the tree which means nodes may have to be swapped all the way down to find its correct location."
   ]
  },
  {
   "cell_type": "markdown",
   "metadata": {},
   "source": [
    "How do we implement Heapify, the operation behind insert / delete, and Build Max Heap?\n",
    " - Build max heap is called heapify in Python, which can cause some confusion. Think of build max heap as a wrapper to make multiple calls to heapify to correctly place each node in the right location as we traverse our array.\n",
    " - Note: for a given index, to access it's left and right child, left child will always be at 2*i if it exists, and the right child will be at 2*i + 1 if it exists. "
   ]
  },
  {
   "cell_type": "code",
   "execution_count": null,
   "metadata": {},
   "outputs": [],
   "source": [
    "#NOTE: This is a max_heap example, for the min heap our bounds would be flipped.\n",
    "class Solution:\n",
    "    def build_max_heap(arr):\n",
    "        heap_size = len(arr)\n",
    "\n",
    "        for i in range(heap_size // 2, -1, -1):\n",
    "            max_heapify(arr, heap_size, i)\n",
    "    \n",
    "    def max_heapify(arr, heap_size, i):\n",
    "        l = 2*i\n",
    "        r = 2*i + 1\n",
    "        largest = i\n",
    "\n",
    "        #we're finding to see if any of the children are larger, and also to find the largest among them.\n",
    "        if l < heap_size and arr[l] > arr[i]:\n",
    "            largest = l\n",
    "        \n",
    "        if r < heap_size and arr[r] > arr[largest]:\n",
    "            largest = r\n",
    "        \n",
    "        if i != largest:\n",
    "            #swap i with the largest we found, and continue from where i is now located to repair that side of the heap.\n",
    "            arr[i], arr[largest] = arr[largest], arr[i]\n",
    "            max_heapify(arr, heap_size, largest)"
   ]
  },
  {
   "cell_type": "code",
   "execution_count": null,
   "metadata": {},
   "outputs": [],
   "source": []
  },
  {
   "cell_type": "code",
   "execution_count": null,
   "metadata": {},
   "outputs": [],
   "source": []
  }
 ],
 "metadata": {
  "kernelspec": {
   "display_name": "venv",
   "language": "python",
   "name": "python3"
  },
  "language_info": {
   "name": "python",
   "version": "3.11.7"
  }
 },
 "nbformat": 4,
 "nbformat_minor": 2
}
