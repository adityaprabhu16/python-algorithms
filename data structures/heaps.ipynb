{
 "cells": [
  {
   "cell_type": "markdown",
   "metadata": {},
   "source": [
    "Heap Data Structure:\n",
    " - A complete binary tree that satisfies the heap property.\n",
    " - Complete Binary Tree: every level, except for the leaves, is completely filled & all of the nodes in the last level are filled from the left.\n",
    " - Heap Property: For every node, the value of its children is less than or equal to its own value (max heap) or vice versa (min heap)\n",
    "    - Therefore, the smallest or largest element will always be at the root of the tree.\n",
    "- Applications: Used for implementing a priority queue."
   ]
  }
 ],
 "metadata": {
  "language_info": {
   "name": "python"
  }
 },
 "nbformat": 4,
 "nbformat_minor": 2
}
