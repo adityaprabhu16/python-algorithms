{
 "cells": [
  {
   "cell_type": "markdown",
   "metadata": {},
   "source": [
    "Top K Frequent Elements\n",
    " - This is a great problem that can be solved in multiple ways. See the heaps solution.\n",
    " - We can also solve this problem via hash maps!\n",
    " - We'll create a hash map for the frequencies. \n",
    " - Using the freqMap, we'll then create a hash map where each index is the frequency, and the value is a list of numbers with that frequency. Some lists may be empty.\n",
    " - We'll then iterate through our second hash map, list by list, from the back until we have gathered k elements with the highest frequencies.\n",
    "\n",
    " - Time Complexity: O(n) - iterating through the hashmaps will be O(n), even though we do it a constant number of times (once for counting our frequencies, once for building our list hashmap, and another to go through the list hashmpa from the back)\n",
    " - Memory Complexity: O(n) - to store our hashmaps we'll need O(n) for the frequency counts, O(n) for a list hash map where each key is the frequency. Note that in the worst-case we'll have O(n) because our hashMap will need to include the frequency for each unique element.\n",
    " - Note: using hashMaps here may be slower vcomputational than using a heap for very large N, because our heap will be much smaller (just k elements), and therefore traversing it is faster than iterating through an entire hashMap. You'll note that this appears to be true by looking at the runtime in Leetcode for the two solutions."
   ]
  },
  {
   "cell_type": "code",
   "execution_count": null,
   "metadata": {},
   "outputs": [],
   "source": [
    "class Solution:\n",
    "    def topKFrequentElements(self, nums: List[int], k: int) -> List[int]:\n",
    "        freqMap = {} #can also use collections.Counter\n",
    "        for num in nums:\n",
    "            freqMap[num] = 1 + freqMap.get(num, 0)\n",
    "        \n",
    "        freqList = [[] for _ in range(len(nums)+1)]  #frequency for an element can range from 0...nums (the entire array)\n",
    "        \n",
    "        for num, freq in freqMap.items():\n",
    "            freqList[freq].append(num)\n",
    "        \n",
    "        K = k\n",
    "        res = []\n",
    "        #Gather the top K frequent elements:\n",
    "        for i in range(len(freqList)-1, -1, -1):\n",
    "            oneList = freqList[i]\n",
    "            for num in oneList:\n",
    "                if K == 0:\n",
    "                    return res\n",
    "                res.append(num)\n",
    "                K -= 1\n",
    "        #in the case K is the full number of elements in the list, we'll go through the full array but won't have our final check once K = 0, so we'll just return res here.\n",
    "        return res"
   ]
  }
 ],
 "metadata": {
  "kernelspec": {
   "display_name": "venv",
   "language": "python",
   "name": "python3"
  },
  "language_info": {
   "name": "python",
   "version": "3.11.7"
  }
 },
 "nbformat": 4,
 "nbformat_minor": 2
}
