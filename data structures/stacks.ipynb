{
 "cells": [
  {
   "cell_type": "code",
   "execution_count": 1,
   "metadata": {},
   "outputs": [
    {
     "name": "stdout",
     "output_type": "stream",
     "text": [
      "hello from notebook!\n"
     ]
    }
   ],
   "source": [
    "print(\"hello from notebook!\")"
   ]
  },
  {
   "cell_type": "markdown",
   "metadata": {},
   "source": [
    "Stack Sorting Problem:\n",
    " - Given an array, we'll use a stack to sort it.\n",
    " - General Strategy:\n",
    " - 1. Pop from the input\n",
    " - 2. While the contents of the stack are greater, we'll shuffle them to the end of input\n",
    "-  3. Place the input in the correct location.\n",
    "-  4. Shuffle the sorted elements back onto the stack.\n",
    "-  4. Return the sorted stack."
   ]
  },
  {
   "cell_type": "code",
   "execution_count": 1,
   "metadata": {},
   "outputs": [
    {
     "name": "stdout",
     "output_type": "stream",
     "text": [
      "Before - Unsorted: [32, 3, 31, 98, 92, 23]\n",
      "After - Sorted: [3, 23, 31, 32, 92, 98]\n"
     ]
    }
   ],
   "source": [
    "input = [32, 3, 31, 98, 92, 23]\n",
    "\n",
    "print(f\"Before - Unsorted: {input}\")\n",
    "\n",
    "stack = []\n",
    "\n",
    "while input:\n",
    "    val = input.pop()\n",
    "    count = 0\n",
    "    while stack and stack[-1] > val:\n",
    "        st = stack.pop()\n",
    "        input.append(st)\n",
    "        count += 1\n",
    "    stack.append(val)\n",
    "    #shuffle the elements we popped back.\n",
    "    while count > 0:\n",
    "        stack.append(input.pop())\n",
    "        count -= 1\n",
    "\n",
    "print(f\"After - Sorted: {stack}\")\n"
   ]
  },
  {
   "cell_type": "markdown",
   "metadata": {},
   "source": [
    "Implement Queue Using Stacks:\n",
    " - Strategy: Queue is FIFO so pop from front\n",
    " - We'll implement __init__, pop, push, peek(), empty\n",
    " - pop() would have to go and pull the value from the front, which would be O(N), but we can get approximately O(1) in the long-run by shifting our entries to another stack and popping from there until it's empty.\n",
    " - push(): just append directly to first stack."
   ]
  },
  {
   "cell_type": "code",
   "execution_count": null,
   "metadata": {},
   "outputs": [],
   "source": [
    "class MyQueue:\n",
    "    def __init__(self):\n",
    "        self.stack1 = []\n",
    "        self.stack2 = []\n",
    "\n",
    "    def push(self, x: int) -> None:\n",
    "        self.stack1.append(x)\n",
    "    \n",
    "    def pop(self) -> int:\n",
    "        if self.stack2:\n",
    "            return self.stack2.pop()\n",
    "\n",
    "        #naturally, the end of stack2 will be the oldest entries, respecting FIFO order.\n",
    "        while self.stack1:\n",
    "            self.stack2.append(self.stack1.pop())\n",
    "        \n",
    "        return self.stack2.pop()\n",
    "\n",
    "    def peek(self) -> int:\n",
    "        if self.stack2:\n",
    "            return self.stack2[-1]\n",
    "\n",
    "        return self.stack1[0]\n",
    "\n",
    "    def empty(self) -> bool:\n",
    "        if self.stack1 or self.stack2:\n",
    "            return False\n",
    "        return True\n"
   ]
  }
 ],
 "metadata": {
  "kernelspec": {
   "display_name": "venv",
   "language": "python",
   "name": "python3"
  },
  "language_info": {
   "codemirror_mode": {
    "name": "ipython",
    "version": 3
   },
   "file_extension": ".py",
   "mimetype": "text/x-python",
   "name": "python",
   "nbconvert_exporter": "python",
   "pygments_lexer": "ipython3",
   "version": "3.11.7"
  }
 },
 "nbformat": 4,
 "nbformat_minor": 2
}
