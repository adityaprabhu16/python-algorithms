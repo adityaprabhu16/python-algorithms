{
 "cells": [
  {
   "cell_type": "code",
   "execution_count": 1,
   "metadata": {},
   "outputs": [
    {
     "name": "stdout",
     "output_type": "stream",
     "text": [
      "hello from notebook!\n"
     ]
    }
   ],
   "source": [
    "print(\"hello from notebook!\")"
   ]
  },
  {
   "cell_type": "markdown",
   "metadata": {},
   "source": [
    "Stack Sorting Problem:\n",
    " - Given an array, we'll use a stack to sort it.\n",
    " - General Strategy:\n",
    " - 1. Pop from the input\n",
    " - 2. While the contents of the stack are greater, we'll shuffle them to the end of input\n",
    "-  3. Place the input in the correct location.\n",
    "-  4. Shuffle the sorted elements back onto the stack.\n",
    "-  4. Return the sorted stack."
   ]
  },
  {
   "cell_type": "code",
   "execution_count": 1,
   "metadata": {},
   "outputs": [
    {
     "name": "stdout",
     "output_type": "stream",
     "text": [
      "Before - Unsorted: [32, 3, 31, 98, 92, 23]\n",
      "After - Sorted: [3, 23, 31, 32, 92, 98]\n"
     ]
    }
   ],
   "source": [
    "input = [32, 3, 31, 98, 92, 23]\n",
    "\n",
    "print(f\"Before - Unsorted: {input}\")\n",
    "\n",
    "stack = []\n",
    "\n",
    "while input:\n",
    "    val = input.pop()\n",
    "    count = 0\n",
    "    while stack and stack[-1] > val:\n",
    "        st = stack.pop()\n",
    "        input.append(st)\n",
    "        count += 1\n",
    "    stack.append(val)\n",
    "    #shuffle the elements we popped back.\n",
    "    while count > 0:\n",
    "        stack.append(input.pop())\n",
    "        count -= 1\n",
    "\n",
    "print(f\"After - Sorted: {stack}\")\n"
   ]
  },
  {
   "cell_type": "markdown",
   "metadata": {},
   "source": [
    "Implement Queue Using Stacks:\n",
    " - Strategy: Queue is FIFO so pop from front\n",
    " - We'll implement __init__, pop, push, peek(), empty\n",
    " - pop() would have to go and pull the value from the front, which would be O(N), but we can get approximately O(1) in the long-run by shifting our entries to another stack and popping from there until it's empty.\n",
    " - push(): just append directly to first stack."
   ]
  },
  {
   "cell_type": "code",
   "execution_count": null,
   "metadata": {},
   "outputs": [],
   "source": [
    "class MyQueue:\n",
    "    def __init__(self):\n",
    "        self.stack1 = []\n",
    "        self.stack2 = []\n",
    "\n",
    "    def push(self, x: int) -> None:\n",
    "        self.stack1.append(x)\n",
    "    \n",
    "    def pop(self) -> int:\n",
    "        if self.stack2:\n",
    "            return self.stack2.pop()\n",
    "\n",
    "        #naturally, the end of stack2 will be the oldest entries, respecting FIFO order.\n",
    "        while self.stack1:\n",
    "            self.stack2.append(self.stack1.pop())\n",
    "        \n",
    "        return self.stack2.pop()\n",
    "\n",
    "    def peek(self) -> int:\n",
    "        if self.stack2:\n",
    "            return self.stack2[-1]\n",
    "\n",
    "        return self.stack1[0]\n",
    "\n",
    "    def empty(self) -> bool:\n",
    "        if self.stack1 or self.stack2:\n",
    "            return False\n",
    "        return True\n"
   ]
  },
  {
   "cell_type": "markdown",
   "metadata": {},
   "source": [
    "Implement Stack Using Queues:\n",
    " - This one is easier than implementing a queue using stacks, because we can use the double ended queue in Python by importing it from the collections module.\n",
    " - We wish to implement __init__, push, pop, top, empty\n",
    " - We MUST use only standard operations of a queue (push to back, peek/pop from front, size, and isEmpty)\n",
    " - Using a deque, we can push to back O(1), but to pop, we're going to have to go through all of the elements and reinsert them until we get our last (newest) element, O(n)."
   ]
  },
  {
   "cell_type": "code",
   "execution_count": null,
   "metadata": {},
   "outputs": [],
   "source": [
    "import collections\n",
    "\n",
    "class MyStack:\n",
    "    def __init__(self):\n",
    "        self.dq = collections.deque()\n",
    "\n",
    "    def push(self, int: x) -> None:\n",
    "        #push to back\n",
    "        self.dq.append(x)\n",
    "\n",
    "    \n",
    "    def pop(self) -> int:\n",
    "        count = len(self.dq)\n",
    "        #we can only pop from front.\n",
    "        while count > 1:\n",
    "            val = self.dq.popleft()\n",
    "            self.dq.append(val)\n",
    "            count -= 1\n",
    "        return self.dq.popleft()\n",
    "\n",
    "    \n",
    "    def top(self) -> int:\n",
    "        return self.dq[-1]\n",
    "    \n",
    "    def empty(self) -> bool:\n",
    "        return len(self.dq) == 0\n"
   ]
  },
  {
   "cell_type": "markdown",
   "metadata": {},
   "source": [
    "Min Stack:\n",
    " - Implement a stack where each operation is O(1) including getting the min from the stack.\n",
    " - Strategy: Keep track of the most recent min placed in the stack using a tuple! (val, minSoFar)!"
   ]
  },
  {
   "cell_type": "markdown",
   "metadata": {},
   "source": [
    "Daily Temperature:\n",
    " - "
   ]
  }
 ],
 "metadata": {
  "kernelspec": {
   "display_name": "venv",
   "language": "python",
   "name": "python3"
  },
  "language_info": {
   "codemirror_mode": {
    "name": "ipython",
    "version": 3
   },
   "file_extension": ".py",
   "mimetype": "text/x-python",
   "name": "python",
   "nbconvert_exporter": "python",
   "pygments_lexer": "ipython3",
   "version": "3.11.7"
  }
 },
 "nbformat": 4,
 "nbformat_minor": 2
}
