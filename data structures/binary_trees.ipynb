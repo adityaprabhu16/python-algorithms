{
 "cells": [
  {
   "cell_type": "markdown",
   "metadata": {},
   "source": [
    "Min Depth of Binary Tree\n",
    " - Given a binary tree, we need to find the min depth.\n",
    " - What we'll do: send up the minimum height of each subtree (it would be either the right or the left subtree's height)\n",
    " - The root will therefore have accumulated the min height of its two subtrees\n",
    " - Use recursive DFS to solve this problem. "
   ]
  },
  {
   "cell_type": "code",
   "execution_count": null,
   "metadata": {},
   "outputs": [],
   "source": [
    "class Solution:\n",
    "    def minDepth(self, root: Optional[TreeNode]) -> int:\n",
    "        def dfs(root):\n",
    "            if root == None:\n",
    "                return 0 \n",
    "            \n",
    "            leftHeight = 1 + dfs(root.left)\n",
    "            rightHeight = 1 + dfs(root.right)\n",
    "\n",
    "            #if either left or rightHeight is 1, that means it has no children in that subtree, and we are only counting  so we need to disregard it.\n",
    "            if (leftHeight == 1 and rightHeight > 1):\n",
    "                return rightHeight\n",
    "            elif (leftHeight > 1 and rightHeight == 1):\n",
    "                return leftHeight\n",
    "            return min(rightHeight, leftHeight)\n",
    "        return dfs(root)"
   ]
  },
  {
   "cell_type": "markdown",
   "metadata": {},
   "source": [
    "Possibly a preferable solution\n",
    " - Breadth First Search (BFS)\n",
    " - That way, we can terminate early once we've reached the first leaf node instead of having to explore the entire tree to confirm we have the minimum.\n",
    " - We'll use a queue to go through each level of the tree as well as keep track of the current level (the height) with it being 1-indexed.\n",
    " - Once we've encountered the first leaf node in the queue, we break and return the level we're on so far, the rest of the tree doesn't need to be explored.\n",
    " - This does not require recursion: just needs a while loop (while queue is not empty) and the inner being a for loop to completely explore the current level.\n",
    "\n",
    "\n",
    "Another Strategy (also BFS):\n",
    " - Keep track of the (node, level) using a tuple, that way, we'll always know what level we're on instead of having a running computation for the height.\n",
    " - Note: check before we put a node in the queue so we aren't putting an empty node. If we do, the logic breaks because now we would end up attempting to access a NoneType which wouldn't have a .left and .right attribute."
   ]
  },
  {
   "cell_type": "code",
   "execution_count": null,
   "metadata": {},
   "outputs": [],
   "source": [
    "import collections\n",
    "\n",
    "class Solution:\n",
    "    def minDepth(self, root: Optional[TreeNode]) -> int:\n",
    "        q = collections.deque()\n",
    "        \n",
    "        q.append((root,1))\n",
    "        \n",
    "        level = 2\n",
    "        while q:\n",
    "            qLen = len(q)\n",
    "            for _ in range(qLen):\n",
    "                #tuples are immutable - we can read them, but can't update or overwrite them! \n",
    "                tup = q.popleft()\n",
    "                node = tup[0]\n",
    "                #found our leaf:\n",
    "                if not node.left and not node.right:\n",
    "                    return tup[1] #return the level\n",
    "\n",
    "                if node.left:\n",
    "                    q.append((node.left, level))\n",
    "                if node.right:\n",
    "                    q.append((node.right, level))\n",
    "\n",
    "            level += 1"
   ]
  },
  {
   "cell_type": "markdown",
   "metadata": {},
   "source": [
    "Max Depth of Binary Tree:\n",
    " - Similar problem, except now we let BFS complete (which indicates we've reached the furthest leaf nodes from the root), this would be our maxLevel\n",
    " - Since we won't be able to return here early, keep track of the maxLevel in a separate variable.\n",
    " - BFS for this problem is much faster than DFS because we explore exactly the levels we need."
   ]
  },
  {
   "cell_type": "code",
   "execution_count": null,
   "metadata": {},
   "outputs": [],
   "source": [
    "import collections\n",
    "class Solution:\n",
    "    def maxDepth(self, root: Optional[TreeNode]) -> int:\n",
    "        maxLevel = 0\n",
    "        q = collections.deque()\n",
    "\n",
    "        if not root:\n",
    "            return maxLevel\n",
    "        \n",
    "        q.append(root)\n",
    "        \n",
    "        #Now we're ready for BFS (Level Order Traversal)\n",
    "        while q:\n",
    "            qLen = len(q) #number of nodes on current level\n",
    "            #since while condition passed, we've traversed a level successfully:\n",
    "            maxLevel += 1\n",
    "            for _ in range(qLen):\n",
    "                node = q.popleft()\n",
    "                \n",
    "                if node.left:\n",
    "                    q.append(node.left)\n",
    "                if node.right:\n",
    "                    q.append(node.right)\n",
    "        return maxLevel\n",
    "    "
   ]
  },
  {
   "cell_type": "markdown",
   "metadata": {},
   "source": [
    "DFS Recursion using the original function to find maxDepth:\n",
    " - Unlike minDepth (because we can't treat an empty subtree and the current root as a height of 1 as it will throw off the minHeight computation),\n",
    " - maxDepth is easier because max() will always go for the most \"full\" part of the tree, so we can actually just use maxDepth function in the DFS recursion since we don't need to do any additional processing or checks.\n",
    " - Remember, when referring to a function that's inside the top level of a class, we need to use self."
   ]
  },
  {
   "cell_type": "code",
   "execution_count": null,
   "metadata": {},
   "outputs": [],
   "source": [
    "class Solution: \n",
    "    def maxDepth(self, root: Optional[TreeNode]) -> int:\n",
    "        if not root: #empty subtree has 0 height\n",
    "            return 0 \n",
    "\n",
    "        return max(self.maxDepth(root.left), self.maxDepth(root.right)) + 1 #include the current level when subtree computation finishes"
   ]
  },
  {
   "cell_type": "markdown",
   "metadata": {},
   "source": [
    "Find Min / Max in Binary Tree:\n",
    " - Note, this isn't a binary search tree (BST), so the tree is not sorted in any way where we can eliminate subtrees.\n",
    " - Instead, just do BFS and update your max / min respectively when a new max/min found.\n",
    " - We're going to be exploring the entire tree - in a binary tree, leaf nodes will make up roughly 50% of the tree, so our queue will eventually hold maximum floor(N/2) nodes\n",
    " - Therefore, memory complexity is O(N), along with time complexity which is O(N)"
   ]
  },
  {
   "cell_type": "code",
   "execution_count": null,
   "metadata": {},
   "outputs": [],
   "source": [
    "#Similar process with max.\n",
    "def TreeMin(self, root: Optional[TreeNode]) -> int:\n",
    "    q = collections.deque()\n",
    "    minVal = float(\"-inf\")\n",
    "    if not root:\n",
    "        return minVal\n",
    "    q.append(root)\n",
    "    #we're going to be exploring the whole tree O(N) with O(floor(N/2)) complexity (because roughly half of the tree will be leaves)\n",
    "    while q:\n",
    "        qLen = len(q)\n",
    "        #Go through the entire current level (level-order traversal)\n",
    "        for _ in range(qLen):\n",
    "            node = q.popleft()\n",
    "            minVal = min(node.val, minVal)\n",
    "            #tree might not necessarily be perfect\n",
    "            if node.left:\n",
    "                q.append(node.left)\n",
    "            if node.right:\n",
    "                q.append(node.right)\n",
    "    return minVal\n",
    "        \n"
   ]
  },
  {
   "cell_type": "markdown",
   "metadata": {},
   "source": [
    "Binary Tree Level Order Traversal:\n",
    " - Place nodes for a level into a queue.\n",
    " - Go through the nodes left to right (popleft)\n",
    " - We'll then append the node values to an array.\n",
    " - Time complexity O(N), Memory Complexity O(N) because the queue will have ~N/2 nodes on the very last level"
   ]
  },
  {
   "cell_type": "code",
   "execution_count": null,
   "metadata": {},
   "outputs": [],
   "source": [
    "class Solution:\n",
    "    def levelOrder(self, root: Optional[TreeNode]) -> List[List[int]]:\n",
    "        q = collections.deque()\n",
    "        if not root:\n",
    "            return []\n",
    "        q.append(node)\n",
    "        res = []\n",
    "        while q:\n",
    "            qLen = len(q)\n",
    "            level = []\n",
    "            for _ in range(qLen):\n",
    "                node = q.popleft()\n",
    "                level.append(node.val)\n",
    "                if node.left:\n",
    "                    q.append(node.left)\n",
    "                if node.right:\n",
    "                    q.append(node.right)\n",
    "        res.append(level)\n",
    "        return res"
   ]
  },
  {
   "cell_type": "markdown",
   "metadata": {},
   "source": [
    "Same Tree:\n",
    " - Good example of solving with DFS.\n",
    " - We can do this with recursive DFS, stack DFS, or even queue BFS\n",
    " - with recursive DFS, we can use self to refer to the original function.\n",
    " - Remember subtrees are still trees, so once we're done comparing the parent, we'll check the left and right subtrees to make sure they're the same.\n",
    " - Base case: we've made it all the way to the bottom (not p and not q), return True\n",
    " - Base case: if the tree is not the same structure (not p or not q), return False\n",
    " - Recursive check: if p.val != q.val, return False, otherwise continue with DFS"
   ]
  },
  {
   "cell_type": "code",
   "execution_count": null,
   "metadata": {},
   "outputs": [],
   "source": [
    "class Solution:\n",
    "    def isSameTree(self, p: Optional[TreeNode], q: Optional[TreeNode]) -> bool:\n",
    "        if not p and not q:\n",
    "            return True\n",
    "\n",
    "        if not p or not q:\n",
    "            return False\n",
    "        \n",
    "        #Now we know we're now both nodes are defined and we can compare.\n",
    "        if p.val != q.val:\n",
    "            return False\n",
    "        \n",
    "        #Refer to the original function and continue:\n",
    "        return self.isSameTree(p.left, q.left) and self.isSameTree(p.right, q.right)\n"
   ]
  },
  {
   "cell_type": "markdown",
   "metadata": {},
   "source": [
    "Path Sum:\n",
    " - Good example of stolving with stack DFS, but you can also approach it the other ways as well.\n",
    " - With stack DFS, we'll keep track of a runningSum LOCALLY in a tuple along with the node. Once we hit a leaf we'll check our target.\n",
    " - Why locally? because a global runningSum could be accessed by separate paths and we wouldn't get the accurate sum for the current path.\n",
    " - If we don't match, we'll remove the previously added value from the runningSum (current leaf), as we explore a different path (another leaf).\n",
    " - Return False once the stack is empty and we didn't find our path."
   ]
  },
  {
   "cell_type": "code",
   "execution_count": null,
   "metadata": {},
   "outputs": [],
   "source": [
    "class Solution:\n",
    "    def pathSum(self, root: Optional[TreeNode], targetSum: int) -> bool:\n",
    "        stack = []\n",
    "        if not root:\n",
    "            return False\n",
    "        stack.append((root, 0))\n",
    "        \n",
    "        #while stack length greater than 0:\n",
    "        while stack:\n",
    "            pkg = stack.pop()\n",
    "            node = pkg[0]\n",
    "            runningSum = pkg[1]\n",
    "\n",
    "            runningSum += node.val\n",
    "\n",
    "            #order we add to stack matters: since preorder, left should be in front of right\n",
    "            if node.right: \n",
    "                stack.append((node.right, runningSum))\n",
    "            if node.left:\n",
    "                stack.append((node.left, runningSum))\n",
    "\n",
    "            #check if leaf node:\n",
    "            if not node.left and not node.right:\n",
    "                if runningSum == targetSum:\n",
    "                    return True\n",
    "        return False"
   ]
  },
  {
   "cell_type": "markdown",
   "metadata": {},
   "source": [
    "Diameter of Binary Tree:\n",
    " - max diameter can either be path_SubtreeLeft + path_SubtreeRight, or we return the max path of one or the other and include the root max(1 + path_Subtreeleft, 1 + path_Subtreeright) so we can continue building the diameter on the next level.\n",
    " - Use nonlocal keyword to make the global parameter accessible to the current function call. \n",
    " - Remember, this problem is easy when you think about how we'd build the diameter from the subtrees. "
   ]
  },
  {
   "cell_type": "code",
   "execution_count": null,
   "metadata": {},
   "outputs": [],
   "source": [
    "class Solution:\n",
    "    def diameterOfBinaryTree(self, root: Optional[TreeNode]) -> int:\n",
    "        diameter = float(\"-inf\")\n",
    "\n",
    "        def dfs(root):\n",
    "            nonlocal diameter #This is key!\n",
    "\n",
    "            #leaf nodes contribute 0 edges\n",
    "            if not root:\n",
    "                return 0 \n",
    "\n",
    "            hLeft = dfs(root.left)\n",
    "            hRight = dfs(root.right)\n",
    "\n",
    "            #see if our max diameter excludes the root\n",
    "            diameter = max(diameter, hLeft + hRight)            \n",
    "\n",
    "            #Otherwise include the root of current subtree and choose the longest path, then go to next level.\n",
    "            return max(hLeft + 1, hRight + 1)\n"
   ]
  },
  {
   "cell_type": "markdown",
   "metadata": {},
   "source": [
    "Invert Binary Tree\n",
    " - Do DFS to reach the leaf nodes, swap their subtrees (Nones), then move up, swap the parent node's subtrees, and so on until we return to root.\n",
    " - This will eventually invert the entire subtree because at each stage the references would correctly be swapped.\n",
    " - Note: for this problem, you can also use the original functi (invertTree) for your recursive call.\n",
    " - Again, you can use a queue here for this problem."
   ]
  },
  {
   "cell_type": "code",
   "execution_count": null,
   "metadata": {},
   "outputs": [],
   "source": [
    "class Solution:\n",
    "    def invertTree(self, root: Optional[TreeNode]) -> Optional[TreeNode]:\n",
    "        def dfs(root):\n",
    "            #leaf.left and leaf.right will always be None\n",
    "            if not root:\n",
    "                return None\n",
    "            \n",
    "            leftSwappedTree = dfs(root.left)\n",
    "            rightSwappedTree = dfs(root.right)\n",
    "\n",
    "            #swap subtrees at current level:\n",
    "            root.left = rightSwappedTree\n",
    "            root.right = leftSwappedTree\n",
    "\n",
    "            #return subtree to next level for swapping.\n",
    "            return root\n",
    "        return dfs(root)"
   ]
  },
  {
   "cell_type": "markdown",
   "metadata": {},
   "source": [
    "Lowest Common Ancestor (LCA) of a Binary Tree:\n",
    " - LCA: Lowest (closest) node in a tree that has BOTH p and q as descendents, where the node can be included.\n",
    " - Strategy: Use DFS: whenever we find either p.val or q.val, percolate that value up to its subroot, so we can easily compare when we find the common ancestor.\n",
    " - Once we found it, use a flag to just continue returning that LCA up, don't need to continue exploring rest of tree.\n",
    " - Note that we need to make sure the subtrees are defined before doing our checks because not every node will have two children.\n",
    " - To fully understand DFS and BFS, try both!\n",
    " - Iterative Solution: BFS\n",
    " - Recursive Solution: DFS"
   ]
  },
  {
   "cell_type": "code",
   "execution_count": null,
   "metadata": {},
   "outputs": [],
   "source": [
    "class Solution:\n",
    "    def lowestCommonAncestor(self, root: Optional[TreeNode], p: Optional[TreeNode], q: Optional[TreeNode]) -> Optional[TreeNode]:\n",
    "        lcaFound = False\n",
    "\n",
    "        def dfs(root):\n",
    "            #make this accessible to our recursive call stack.\n",
    "            nonlocal lcaFound \n",
    "            if not root:\n",
    "                return None\n",
    "\n",
    "            lS = dfs(root.left)\n",
    "            if lcaFound: #found, don't continue\n",
    "                return lS\n",
    "            rS = dfs(root.right)\n",
    "            if lcaFound: #found, don't continue\n",
    "                return rS\n",
    "            \n",
    "            #let's see if our current root is the LCA\n",
    "            triples = [root.val]\n",
    "            if lS:\n",
    "                triples.append(lS.val)\n",
    "            if rS:\n",
    "                triples.append(rS.val)\n",
    "            \n",
    "            if q.val in triples and p.val in triples:\n",
    "                lcaFound = True\n",
    "                return root\n",
    "            \n",
    "            #found P or Q, so percolate it up:\n",
    "            if (rS and rS.val == q.val) or (lS and lS.val == q.val):\n",
    "                root.val = q.val\n",
    "            elif (rS and rS.val == p.val) or (lS and lS.val == q.val):\n",
    "                root.val = p.val\n",
    "            \n",
    "            return root\n",
    "        #since we're percolating our LCA up, return the result.\n",
    "        return dfs(root)"
   ]
  },
  {
   "cell_type": "markdown",
   "metadata": {},
   "source": [
    "Conclusion:\n",
    " - Notice how our min / max depth, as well as path sum and DFS have all helped us come up with a solution for diameter of binary tree!"
   ]
  }
 ],
 "metadata": {
  "kernelspec": {
   "display_name": "venv",
   "language": "python",
   "name": "python3"
  },
  "language_info": {
   "name": "python",
   "version": "3.11.7"
  }
 },
 "nbformat": 4,
 "nbformat_minor": 2
}
