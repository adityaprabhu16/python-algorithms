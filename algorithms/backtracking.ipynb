{
 "cells": [
  {
   "cell_type": "markdown",
   "id": "acd62257",
   "metadata": {},
   "source": [
    "With these problems, what's important is drawing out a decision tree! At each level, given the current number we've added to the tree, add onto it the decision of whether to include the next number or NOT.\n",
    "\n",
    "In code, we would then traverse the decision tree we have outlined and the best way to do it would be through DFS. Go down all the way one way, then we'll go backtrack. The base case would be i, which would be the decision to include the number at the ith index or not. "
   ]
  },
  {
   "cell_type": "markdown",
   "id": "cf9faf3a",
   "metadata": {},
   "source": [
    "![Decision Tree for Subsets](./images/decision_tree.JPG)"
   ]
  },
  {
   "cell_type": "markdown",
   "id": "7bff3ebe",
   "metadata": {},
   "source": [
    "Permutations:\n",
    " - This is tricky, but understand that each level of DFS is essentially just a new point we have our start iterator at. All decisions at that level will have start at the same place. The iterator i will then range from start to end, allowing us to swap to current section of the array for all sub permutations, with everything before start being fixed (from previous swaps higher in the tree).\n",
    " - i = 0, start is placed at 0 for the first level, and i varies from [start, ...]. Then for dfs, we pass down start+1, so that the new i will manage swapping between start + 1 to end.\n",
    " - This will capture all permutations correctly. If you think about it, it's like swapping one combination at a time as we go down to tree - keeping everything before it fixed (we're exploring all combinations off of the current swap we made) the accumulated combinations leading to one unique permutation because the order matters. \n",
    " - Once we reach a leaf, we'll backtrack by one swap (on the current recursive level by just swapping start and i again so we have the original configuration before the most recent DFS)."
   ]
  },
  {
   "cell_type": "markdown",
   "id": "86fd28b3",
   "metadata": {},
   "source": [
    "![Decision Tree for Permutations][./images/permutations.jpg]"
   ]
  }
 ],
 "metadata": {
  "kernelspec": {
   "display_name": "Python 3",
   "language": "python",
   "name": "python3"
  },
  "language_info": {
   "name": "python",
   "version": "3.10.13"
  }
 },
 "nbformat": 4,
 "nbformat_minor": 5
}
