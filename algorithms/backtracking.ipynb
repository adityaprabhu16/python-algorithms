{
 "cells": [
  {
   "cell_type": "markdown",
   "id": "acd62257",
   "metadata": {},
   "source": [
    "With these problems, what's important is drawing out a decision tree! At each level, given the current number we've added to the tree, add onto it the decision of whether to include the next number or NOT.\n",
    "\n",
    "In code, we would then traverse the decision tree we have outlined and the best way to do it would be through DFS. Go down all the way one way, then we'll go backtrack. The base case would be i, which would be the decision to include the number at the ith index or not. "
   ]
  },
  {
   "cell_type": "markdown",
   "id": "35f09adb",
   "metadata": {},
   "source": [
    "Subsets 1:\n",
    " - The strategy here is simple, it's a 2-branching decision tree, where at the current subtree, we either are doing dfs with the current element included, or dfs with the current element excluded (backtracked).\n",
    " - See the decision tree below. In code, this essentially means each time we do the next iteration of dfs, we'll move our index i to the next element regardless of whether the current was included or not.\n",
    "- Base case is once i exceeds len(nums), meaning we've gone through the entire array.\n",
    "- The height of the decision tree is therefore n steps, and since we're branching by a factor of two, time complexity is of the order O(2^n), and n for going through and appending to our curr array, for a total time complexity of O(n * 2^n)"
   ]
  },
  {
   "cell_type": "markdown",
   "id": "cf9faf3a",
   "metadata": {},
   "source": [
    "![Decision Tree for Subsets](./images/decision_tree.JPG)"
   ]
  },
  {
   "cell_type": "markdown",
   "id": "7bff3ebe",
   "metadata": {},
   "source": [
    "Permutations:\n",
    " - This is tricky, but understand that each level of DFS is essentially just a new point we have our start iterator at. All decisions at that level will have start at the same place. The iterator i will then range from start to end, allowing us to swap to current section of the array for all sub permutations, with everything before start being fixed (from previous swaps higher in the tree).\n",
    " - i = 0, start is placed at 0 for the first level, and i varies from [start, ...]. Then for dfs, we pass down start+1, so that the new i will manage swapping between start + 1 to end.\n",
    " - This will capture all permutations correctly. If you think about it, it's like swapping one combination at a time as we go down to tree - keeping everything before it fixed (we're exploring all combinations off of the current swap we made) the accumulated combinations leading to one unique permutation because the order matters. \n",
    " - Once we reach a leaf, we'll backtrack by one swap (on the current recursive level by just swapping start and i again so we have the original configuration before the most recent DFS)."
   ]
  },
  {
   "cell_type": "markdown",
   "id": "86fd28b3",
   "metadata": {},
   "source": [
    "![Decision Tree for Permutations][./images/permutations.jpg]"
   ]
  },
  {
   "cell_type": "markdown",
   "id": "a0640fee",
   "metadata": {},
   "source": [
    "Subsets 2:\n",
    " - Very similar to subsets 1, except we'll sort our input array and for the exclude branch, we'll skip to the next unique element, similar to combinations II.\n",
    " - This strategy ensures we don't explore the same repeat DFS path again for the current element, since we don't want to include duplicate sets in our subset."
   ]
  },
  {
   "cell_type": "markdown",
   "id": "0dacd52c",
   "metadata": {},
   "source": [
    "![Decision Tree for Subsets 2][./images/subsets_2.jpg]"
   ]
  },
  {
   "cell_type": "markdown",
   "id": "b38d501c",
   "metadata": {},
   "source": [
    "Palindrome Partitioning:\n",
    " - Very similar backtracking to possibly subsets. We are basically breaking up our string into various partitions, checking whether s[:idx+1) is a valid palindrome. If it is, we'll send down s[idx+1:] to the next level of dfs and continue. We'll have a for loop for backtracking, so we can try various partitions at the current level. "
   ]
  },
  {
   "cell_type": "code",
   "execution_count": null,
   "id": "9731379b",
   "metadata": {},
   "outputs": [],
   "source": [
    "![Decision Tree for Palindrome Partitioning][./images/palindrome_partition.JPG]"
   ]
  },
  {
   "cell_type": "markdown",
   "id": "408f4922",
   "metadata": {},
   "source": [
    "Letter Combinations of a Phone Number:\n",
    " - We go through each number and each number has 3-4 corresponding characters, hence branching factor upper bound is 4. We take n steps (depth of tree) based on number of digits in the string. We backtrack back up to the previous level once we've explored one valid combination. Straightforward backtracking problem. "
   ]
  },
  {
   "cell_type": "markdown",
   "id": "94be15b1",
   "metadata": {},
   "source": [
    "![Letter Combinations of a Phone Number][./images/letter_combinations.jpg]"
   ]
  }
 ],
 "metadata": {
  "kernelspec": {
   "display_name": "Python 3",
   "language": "python",
   "name": "python3"
  },
  "language_info": {
   "name": "python",
   "version": "3.10.13"
  }
 },
 "nbformat": 4,
 "nbformat_minor": 5
}
