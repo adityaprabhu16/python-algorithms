{
 "cells": [
  {
   "cell_type": "markdown",
   "id": "acd62257",
   "metadata": {},
   "source": [
    "With these problems, what's important is drawing out a decision tree! At each level, given the current number we've added to the tree, add onto it the decision of whether to include the next number or NOT.\n",
    "\n",
    "In code, we would then traverse the decision tree we have outlined and the best way to do it would be through DFS. Go down all the way one way, then we'll go backtrack. The base case would be i, which would be the decision to include the number at the ith index or not. "
   ]
  },
  {
   "cell_type": "markdown",
   "id": "cf9faf3a",
   "metadata": {},
   "source": [
    "![Decision Tree for Subsets](./images/decision_tree.JPG)"
   ]
  }
 ],
 "metadata": {
  "kernelspec": {
   "display_name": "Python 3",
   "language": "python",
   "name": "python3"
  },
  "language_info": {
   "name": "python",
   "version": "3.10.13"
  }
 },
 "nbformat": 4,
 "nbformat_minor": 5
}
